{
 "metadata": {
  "language_info": {
   "codemirror_mode": {
    "name": "ipython",
    "version": 3
   },
   "file_extension": ".py",
   "mimetype": "text/x-python",
   "name": "python",
   "nbconvert_exporter": "python",
   "pygments_lexer": "ipython3",
   "version": "3.6.10-final"
  },
  "orig_nbformat": 2,
  "kernelspec": {
   "name": "python_defaultSpec_1597963824926",
   "display_name": "Python 3.6.10 64-bit ('base': conda)"
  }
 },
 "nbformat": 4,
 "nbformat_minor": 2,
 "cells": [
  {
   "cell_type": "code",
   "execution_count": 2,
   "metadata": {
    "tags": []
   },
   "outputs": [],
   "source": [
    "import glob\n",
    "import pandas as pd\n",
    "\n",
    "table_conversion = pd.read_csv('mart_export.txt', delimiter = '\\t')\n",
    "#display(table_conversion)\n",
    "ensg_to_symbol = (pd.Series(table_conversion['Gene name'].values, index = table_conversion['Gene stable ID']).to_dict())\n",
    "ensg_to_go_term = (pd.Series(table_conversion['GO term name'].values, index = table_conversion['Gene stable ID']).to_dict())\n",
    "ensg_to_go_accession = (pd.Series(table_conversion['GO term accession'].values, index = table_conversion['Gene stable ID']).to_dict())\n",
    "\n",
    "for output_table in glob.glob('out/processed/Condition_*'):\n",
    "    output_name = (output_table.split('/')[-1].split('Condition')[-1])\n",
    "    read_table = pd.read_csv(output_table).rename(columns = {'Unnamed: 0': ''})\n",
    "    converted_symbol = []\n",
    "    converted_term = []\n",
    "    converted_accession = []\n",
    "    for v in read_table['']:\n",
    "        converted_symbol.append(ensg_to_symbol.get(v))\n",
    "        converted_term.append(ensg_to_go_term.get(v))\n",
    "        converted_accession.append(ensg_to_go_accession.get(v))\n",
    "\n",
    "    read_table.insert(1,'SYMBOL', pd.DataFrame({'col':converted_symbol}))\n",
    "    read_table.insert(2,'GO_accession', pd.DataFrame({'col':converted_accession}))\n",
    "    read_table.insert(3,'GO_term', pd.DataFrame({'col':converted_term}))\n",
    "    read_table.to_csv('out/go_terms_processed/' + 'GO' + output_name, index = None)"
   ]
  },
  {
   "cell_type": "code",
   "execution_count": null,
   "metadata": {},
   "outputs": [],
   "source": []
  }
 ]
}